{
 "cells": [
  {
   "cell_type": "code",
   "execution_count": 1,
   "id": "0e052124-c03e-4b08-97e4-7d87fce83d73",
   "metadata": {},
   "outputs": [],
   "source": [
    "import numpy as np\n",
    "import jax.numpy as jnp\n",
    "import time\n",
    "import pandas as pd\n",
    "import timeit\n",
    "import distopia\n",
    "from functools import partial\n",
    "import jax"
   ]
  },
  {
   "cell_type": "code",
   "execution_count": 2,
   "id": "8fe28d09-e565-4673-82ec-d0ec00095467",
   "metadata": {},
   "outputs": [],
   "source": [
    "cpu_device=jax.devices('cpu')[0]"
   ]
  },
  {
   "cell_type": "code",
   "execution_count": 3,
   "id": "0b6527e6-107e-4bee-8b7b-d3616a9e26bf",
   "metadata": {},
   "outputs": [
    {
     "data": {
      "text/plain": [
       "CpuDevice(id=0)"
      ]
     },
     "execution_count": 3,
     "metadata": {},
     "output_type": "execute_result"
    }
   ],
   "source": [
    "cpu_device"
   ]
  },
  {
   "cell_type": "code",
   "execution_count": 4,
   "id": "eb4696d0-261e-48e6-9791-2eb8a48332ae",
   "metadata": {},
   "outputs": [],
   "source": [
    "gpu_device=jax.devices('gpu')[0]"
   ]
  },
  {
   "cell_type": "code",
   "execution_count": 5,
   "id": "036f3564-a8bf-4537-babb-cc21a3198451",
   "metadata": {},
   "outputs": [
    {
     "data": {
      "text/plain": [
       "CudaDevice(id=0)"
      ]
     },
     "execution_count": 5,
     "metadata": {},
     "output_type": "execute_result"
    }
   ],
   "source": [
    "gpu_device"
   ]
  },
  {
   "cell_type": "code",
   "execution_count": 6,
   "id": "c91aba54-bc7c-4cfb-b716-4b480a93923a",
   "metadata": {},
   "outputs": [],
   "source": [
    "def dist_numpy(a, b, box):\n",
    "    x = a - b\n",
    "    return np.linalg.norm(x - np.rint(x / box) * box, axis=1)"
   ]
  },
  {
   "cell_type": "code",
   "execution_count": 7,
   "id": "ee0b3e7c-5af2-4e09-b5ee-cbe037657fba",
   "metadata": {},
   "outputs": [],
   "source": [
    "from jax import jit\n",
    "\n",
    "def dist_jax(a, b, box):\n",
    "    x = a - b\n",
    "    return jnp.linalg.norm(x - jnp.rint(x / box) * box, axis=1)"
   ]
  },
  {
   "cell_type": "code",
   "execution_count": 8,
   "id": "0d88ad23-16fb-496c-88ab-7a3451429010",
   "metadata": {},
   "outputs": [
    {
     "name": "stderr",
     "output_type": "stream",
     "text": [
      "/home/hmacdope/mambaforge/envs/distopia_compare/lib/python3.13/site-packages/tqdm/auto.py:21: TqdmWarning: IProgress not found. Please update jupyter and ipywidgets. See https://ipywidgets.readthedocs.io/en/stable/user_install.html\n",
      "  from .autonotebook import tqdm as notebook_tqdm\n"
     ]
    }
   ],
   "source": [
    "from MDAnalysis.lib.distances import calc_bonds"
   ]
  },
  {
   "cell_type": "code",
   "execution_count": 9,
   "id": "4e8c6b6f-3b09-466a-b146-89234177fcae",
   "metadata": {},
   "outputs": [],
   "source": [
    "def dist_mda(a,b, box):\n",
    "    return calc_bonds(a, b, box, )"
   ]
  },
  {
   "cell_type": "code",
   "execution_count": 10,
   "id": "2282267b-fe82-4ea4-821c-72e120e13860",
   "metadata": {},
   "outputs": [
    {
     "name": "stdout",
     "output_type": "stream",
     "text": [
      "Object `calc_bond_distance_ortho` not found.\n"
     ]
    }
   ],
   "source": [
    "calc_bond_distance_ortho?"
   ]
  },
  {
   "cell_type": "code",
   "execution_count": 11,
   "id": "5baa2231-8d68-43c5-955b-21d485aeac64",
   "metadata": {},
   "outputs": [],
   "source": [
    "dist_jax_cpu = jax.jit(dist_jax, device=cpu_device)"
   ]
  },
  {
   "cell_type": "code",
   "execution_count": 12,
   "id": "0f073d33-12df-4251-87bc-2add8da69a35",
   "metadata": {},
   "outputs": [],
   "source": [
    "dist_jax_gpu = jax.jit(dist_jax, device=gpu_device)"
   ]
  },
  {
   "cell_type": "code",
   "execution_count": 13,
   "id": "465d87d1-d0d5-4bf3-b09a-7c4c1c8afcca",
   "metadata": {},
   "outputs": [],
   "source": [
    "def dist_distopia(a, b, box):\n",
    "    return distopia.distances_ortho(a, b, box)"
   ]
  },
  {
   "cell_type": "markdown",
   "id": "91e8e40e-86b9-4b94-8541-7073db3d6bf2",
   "metadata": {},
   "source": [
    "# test with N = 1000"
   ]
  },
  {
   "cell_type": "code",
   "execution_count": 14,
   "id": "1627ae2b-77c1-4d27-b03f-e54421055a16",
   "metadata": {},
   "outputs": [],
   "source": [
    "N = 10\n",
    "box = 10\n",
    "c0 = np.random.rand(N, 3).astype(np.float32)*2*box\n",
    "c1 = np.random.rand(N, 3).astype(np.float32)*2*box\n",
    "box = np.asarray([box, box, box], dtype=np.float32)"
   ]
  },
  {
   "cell_type": "code",
   "execution_count": 15,
   "id": "50d3fa95-8df5-4762-9e19-08c070c7a6cf",
   "metadata": {},
   "outputs": [],
   "source": [
    "mda_box = [10, 10, 10, 90, 90, 90]"
   ]
  },
  {
   "cell_type": "code",
   "execution_count": 16,
   "id": "142f21b9-c7e1-464c-ab67-85b8d95f858c",
   "metadata": {},
   "outputs": [],
   "source": [
    "distances_distopia = dist_distopia(c0, c1, box)\n"
   ]
  },
  {
   "cell_type": "code",
   "execution_count": 17,
   "id": "a2d76db3-30f2-4abf-82d3-1cd5cf1daaa7",
   "metadata": {},
   "outputs": [],
   "source": [
    "distances_jax = dist_jax(c0, c1, box)"
   ]
  },
  {
   "cell_type": "code",
   "execution_count": 18,
   "id": "8bd5784a-acc4-40ab-8ade-19e49e25fd3b",
   "metadata": {},
   "outputs": [],
   "source": [
    "distances_numpy = dist_numpy(c0, c1, box)"
   ]
  },
  {
   "cell_type": "code",
   "execution_count": 19,
   "id": "e48ee03f-4bbb-4626-a023-6a13d849375e",
   "metadata": {},
   "outputs": [],
   "source": [
    "distances_mda = dist_mda(c0, c1, mda_box)"
   ]
  },
  {
   "cell_type": "code",
   "execution_count": 20,
   "id": "4eeeda8f-5d45-4b29-9e4d-4a9a918ecdbe",
   "metadata": {},
   "outputs": [],
   "source": [
    "np.testing.assert_array_almost_equal(distances_distopia, distances_jax)"
   ]
  },
  {
   "cell_type": "code",
   "execution_count": 21,
   "id": "bd56781b-d525-40b5-8d10-d6863701e5d7",
   "metadata": {},
   "outputs": [],
   "source": [
    "np.testing.assert_array_almost_equal(distances_jax, distances_numpy)"
   ]
  },
  {
   "cell_type": "code",
   "execution_count": 22,
   "id": "e93e1fdc-7438-453f-ae7f-cc8cddf34794",
   "metadata": {},
   "outputs": [],
   "source": [
    "np.testing.assert_array_almost_equal(distances_jax, distances_mda)"
   ]
  },
  {
   "cell_type": "code",
   "execution_count": 23,
   "id": "efe73fe1-4a5a-4bef-8037-56d8674febd6",
   "metadata": {},
   "outputs": [],
   "source": [
    "def benchmark_jax(sizes, func, repeat=3, number=100, dtype=np.float32):\n",
    "    results = []\n",
    "    for size in sizes:\n",
    "        print(\"running on size \", size)\n",
    "        box = 10\n",
    "        c0 = np.random.rand(size, 3).astype(np.float32)*2*box\n",
    "        c1 = np.random.rand(size, 3).astype(np.float32)*2*box\n",
    "        box = np.asarray([box, box, box], dtype=np.float32)\n",
    "\n",
    "        c0 = jnp.array(c0)\n",
    "        c1 = jnp.array(c1)\n",
    "        box = jnp.array(box)\n",
    "\n",
    "        # warmup the GPU 3 rounds\n",
    "        r1 = func(c0, c1, box).block_until_ready()\n",
    "        r2 = func(c0, c1, box).block_until_ready()\n",
    "        r3 = func(c0, c1, box).block_until_ready()\n",
    "        \n",
    "        timer = timeit.Timer(lambda: func(c0, c1, box).block_until_ready())\n",
    "        times = timer.repeat(repeat=repeat, number=number)\n",
    "\n",
    "        \n",
    "        results.append({\n",
    "            'size': size,\n",
    "            'mean': np.mean(times),\n",
    "            'std_dev': np.std(times),\n",
    "            'min': np.min(times),\n",
    "            'max': np.max(times)\n",
    "        })\n",
    "    \n",
    "    return pd.DataFrame(results)\n",
    "\n"
   ]
  },
  {
   "cell_type": "code",
   "execution_count": 24,
   "id": "11d1babd-77cc-4fd1-ac25-a5a90da7dec3",
   "metadata": {},
   "outputs": [],
   "source": [
    "def benchmark_numpy(sizes, repeat=3, number=100, dtype=np.float32):\n",
    "    results = []\n",
    "    for size in sizes:\n",
    "        print(\"running on size \", size)\n",
    "        box = 10\n",
    "        c0 = np.random.rand(size, 3).astype(np.float32)*2*box\n",
    "        c1 = np.random.rand(size, 3).astype(np.float32)*2*box\n",
    "        box = np.asarray([box, box, box], dtype=np.float32)\n",
    "\n",
    "\n",
    "        # warmup cache 3 rounds\n",
    "        r1 = dist_numpy(c0, c1, box)\n",
    "        r2 = dist_numpy(c0, c1, box)\n",
    "        r3 = dist_numpy(c0, c1, box)\n",
    "        \n",
    "        timer = timeit.Timer(lambda: dist_numpy(c0, c1, box))\n",
    "        times = timer.repeat(repeat=repeat, number=number)\n",
    "\n",
    "        results.append({\n",
    "            'size': size,\n",
    "            'mean': np.mean(times),\n",
    "            'std_dev': np.std(times),\n",
    "            'min': np.min(times),\n",
    "            'max': np.max(times)\n",
    "        })\n",
    "    \n",
    "    return pd.DataFrame(results)\n"
   ]
  },
  {
   "cell_type": "code",
   "execution_count": 25,
   "id": "6ee9dea5-58fa-4306-bb64-a7fd8886afc3",
   "metadata": {},
   "outputs": [],
   "source": [
    "def benchmark_distopia(sizes, repeat=3, number=100, dtype=np.float32):\n",
    "    results = []\n",
    "    for size in sizes:\n",
    "        print(\"running on size \", size)\n",
    "        box = 10\n",
    "        c0 = np.random.rand(size, 3).astype(np.float32)*2*box\n",
    "        c1 = np.random.rand(size, 3).astype(np.float32)*2*box\n",
    "        box = np.asarray([box, box, box], dtype=np.float32)\n",
    "\n",
    "        # warmup cache and registers\n",
    "        r1 = distopia.distances_ortho(c0, c1, box)\n",
    "        r2 = distopia.distances_ortho(c0, c1, box)\n",
    "        r3 = distopia.distances_ortho(c0, c1, box)\n",
    "        \n",
    "        timer = timeit.Timer(lambda: distopia.distances_ortho(c0, c1, box))\n",
    "        times = timer.repeat(repeat=repeat, number=number)\n",
    "        \n",
    "        results.append({\n",
    "            'size': size,\n",
    "            'mean': np.mean(times),\n",
    "            'std_dev': np.std(times),\n",
    "            'min': np.min(times),\n",
    "            'max': np.max(times)\n",
    "        })\n",
    "    \n",
    "    return pd.DataFrame(results)\n"
   ]
  },
  {
   "cell_type": "code",
   "execution_count": 33,
   "id": "86357198-13f2-4843-809d-186ed001016f",
   "metadata": {},
   "outputs": [],
   "source": [
    "def benchmark_mda(sizes, repeat=3, number=100, dtype=np.float32):\n",
    "    results = []\n",
    "    for size in sizes:\n",
    "        print(\"running on size \", size)\n",
    "        box = 10\n",
    "        c0 = np.random.rand(size, 3).astype(np.float32)*2*box\n",
    "        c1 = np.random.rand(size, 3).astype(np.float32)*2*box\n",
    "        box = np.asarray([box, box, box], dtype=np.float32)\n",
    "\n",
    "        # warmup cache and registers\n",
    "        r1 = calc_bonds(c0, c1, mda_box)\n",
    "        r2 = calc_bonds(c0, c1, mda_box)\n",
    "        r3 = calc_bonds(c0, c1, mda_box)\n",
    "        \n",
    "        timer = timeit.Timer(lambda: calc_bonds(c0, c1, mda_box))\n",
    "        times = timer.repeat(repeat=repeat, number=number)\n",
    "        \n",
    "        results.append({\n",
    "            'size': size,\n",
    "            'mean': np.mean(times),\n",
    "            'std_dev': np.std(times),\n",
    "            'min': np.min(times),\n",
    "            'max': np.max(times)\n",
    "        })\n",
    "    \n",
    "    return pd.DataFrame(results)\n"
   ]
  },
  {
   "cell_type": "code",
   "execution_count": 27,
   "id": "c60558c5-f712-4c30-889d-ebcab9ba5f3d",
   "metadata": {},
   "outputs": [
    {
     "name": "stdout",
     "output_type": "stream",
     "text": [
      "[       10       100      1000     10000    100000   1000000  10000000\n",
      " 100000000]\n"
     ]
    }
   ],
   "source": [
    "sizes = np.logspace(1, 8, num=8, dtype=int)\n",
    "print(sizes)"
   ]
  },
  {
   "cell_type": "code",
   "execution_count": 28,
   "id": "f1a25585-fdc5-4906-a45a-c9b323a9c7e4",
   "metadata": {},
   "outputs": [
    {
     "name": "stdout",
     "output_type": "stream",
     "text": [
      "running on size  10\n",
      "running on size  100\n",
      "running on size  1000\n",
      "running on size  10000\n",
      "running on size  100000\n",
      "running on size  1000000\n",
      "running on size  10000000\n",
      "running on size  100000000\n"
     ]
    },
    {
     "data": {
      "text/html": [
       "<div>\n",
       "<style scoped>\n",
       "    .dataframe tbody tr th:only-of-type {\n",
       "        vertical-align: middle;\n",
       "    }\n",
       "\n",
       "    .dataframe tbody tr th {\n",
       "        vertical-align: top;\n",
       "    }\n",
       "\n",
       "    .dataframe thead th {\n",
       "        text-align: right;\n",
       "    }\n",
       "</style>\n",
       "<table border=\"1\" class=\"dataframe\">\n",
       "  <thead>\n",
       "    <tr style=\"text-align: right;\">\n",
       "      <th></th>\n",
       "      <th>size</th>\n",
       "      <th>mean</th>\n",
       "      <th>std_dev</th>\n",
       "      <th>min</th>\n",
       "      <th>max</th>\n",
       "    </tr>\n",
       "  </thead>\n",
       "  <tbody>\n",
       "    <tr>\n",
       "      <th>0</th>\n",
       "      <td>10</td>\n",
       "      <td>0.024066</td>\n",
       "      <td>0.001965</td>\n",
       "      <td>0.022357</td>\n",
       "      <td>0.026818</td>\n",
       "    </tr>\n",
       "    <tr>\n",
       "      <th>1</th>\n",
       "      <td>100</td>\n",
       "      <td>0.021192</td>\n",
       "      <td>0.000537</td>\n",
       "      <td>0.020463</td>\n",
       "      <td>0.021740</td>\n",
       "    </tr>\n",
       "    <tr>\n",
       "      <th>2</th>\n",
       "      <td>1000</td>\n",
       "      <td>0.021614</td>\n",
       "      <td>0.000392</td>\n",
       "      <td>0.021064</td>\n",
       "      <td>0.021949</td>\n",
       "    </tr>\n",
       "    <tr>\n",
       "      <th>3</th>\n",
       "      <td>10000</td>\n",
       "      <td>0.025097</td>\n",
       "      <td>0.001035</td>\n",
       "      <td>0.023912</td>\n",
       "      <td>0.026435</td>\n",
       "    </tr>\n",
       "    <tr>\n",
       "      <th>4</th>\n",
       "      <td>100000</td>\n",
       "      <td>0.059965</td>\n",
       "      <td>0.003169</td>\n",
       "      <td>0.056043</td>\n",
       "      <td>0.063805</td>\n",
       "    </tr>\n",
       "    <tr>\n",
       "      <th>5</th>\n",
       "      <td>1000000</td>\n",
       "      <td>0.332991</td>\n",
       "      <td>0.000979</td>\n",
       "      <td>0.332034</td>\n",
       "      <td>0.334336</td>\n",
       "    </tr>\n",
       "    <tr>\n",
       "      <th>6</th>\n",
       "      <td>10000000</td>\n",
       "      <td>16.478966</td>\n",
       "      <td>0.303335</td>\n",
       "      <td>16.126605</td>\n",
       "      <td>16.867041</td>\n",
       "    </tr>\n",
       "    <tr>\n",
       "      <th>7</th>\n",
       "      <td>100000000</td>\n",
       "      <td>160.880793</td>\n",
       "      <td>0.908964</td>\n",
       "      <td>159.606482</td>\n",
       "      <td>161.664311</td>\n",
       "    </tr>\n",
       "  </tbody>\n",
       "</table>\n",
       "</div>"
      ],
      "text/plain": [
       "        size        mean   std_dev         min         max\n",
       "0         10    0.024066  0.001965    0.022357    0.026818\n",
       "1        100    0.021192  0.000537    0.020463    0.021740\n",
       "2       1000    0.021614  0.000392    0.021064    0.021949\n",
       "3      10000    0.025097  0.001035    0.023912    0.026435\n",
       "4     100000    0.059965  0.003169    0.056043    0.063805\n",
       "5    1000000    0.332991  0.000979    0.332034    0.334336\n",
       "6   10000000   16.478966  0.303335   16.126605   16.867041\n",
       "7  100000000  160.880793  0.908964  159.606482  161.664311"
      ]
     },
     "execution_count": 28,
     "metadata": {},
     "output_type": "execute_result"
    }
   ],
   "source": [
    "\n",
    "benchmark_results_jax = benchmark_jax(sizes, dist_jax_cpu)\n",
    "benchmark_results_jax"
   ]
  },
  {
   "cell_type": "code",
   "execution_count": 29,
   "id": "cc3abece-d036-49e3-b09d-8604f08a87ad",
   "metadata": {},
   "outputs": [
    {
     "name": "stdout",
     "output_type": "stream",
     "text": [
      "running on size  10\n",
      "running on size  100\n",
      "running on size  1000\n",
      "running on size  10000\n",
      "running on size  100000\n",
      "running on size  1000000\n",
      "running on size  10000000\n",
      "running on size  100000000\n"
     ]
    },
    {
     "data": {
      "text/html": [
       "<div>\n",
       "<style scoped>\n",
       "    .dataframe tbody tr th:only-of-type {\n",
       "        vertical-align: middle;\n",
       "    }\n",
       "\n",
       "    .dataframe tbody tr th {\n",
       "        vertical-align: top;\n",
       "    }\n",
       "\n",
       "    .dataframe thead th {\n",
       "        text-align: right;\n",
       "    }\n",
       "</style>\n",
       "<table border=\"1\" class=\"dataframe\">\n",
       "  <thead>\n",
       "    <tr style=\"text-align: right;\">\n",
       "      <th></th>\n",
       "      <th>size</th>\n",
       "      <th>mean</th>\n",
       "      <th>std_dev</th>\n",
       "      <th>min</th>\n",
       "      <th>max</th>\n",
       "    </tr>\n",
       "  </thead>\n",
       "  <tbody>\n",
       "    <tr>\n",
       "      <th>0</th>\n",
       "      <td>10</td>\n",
       "      <td>0.000377</td>\n",
       "      <td>0.000005</td>\n",
       "      <td>0.000372</td>\n",
       "      <td>0.000384</td>\n",
       "    </tr>\n",
       "    <tr>\n",
       "      <th>1</th>\n",
       "      <td>100</td>\n",
       "      <td>0.000545</td>\n",
       "      <td>0.000002</td>\n",
       "      <td>0.000543</td>\n",
       "      <td>0.000548</td>\n",
       "    </tr>\n",
       "    <tr>\n",
       "      <th>2</th>\n",
       "      <td>1000</td>\n",
       "      <td>0.001784</td>\n",
       "      <td>0.000015</td>\n",
       "      <td>0.001770</td>\n",
       "      <td>0.001805</td>\n",
       "    </tr>\n",
       "    <tr>\n",
       "      <th>3</th>\n",
       "      <td>10000</td>\n",
       "      <td>0.013559</td>\n",
       "      <td>0.000063</td>\n",
       "      <td>0.013496</td>\n",
       "      <td>0.013645</td>\n",
       "    </tr>\n",
       "    <tr>\n",
       "      <th>4</th>\n",
       "      <td>100000</td>\n",
       "      <td>0.134199</td>\n",
       "      <td>0.000054</td>\n",
       "      <td>0.134156</td>\n",
       "      <td>0.134276</td>\n",
       "    </tr>\n",
       "    <tr>\n",
       "      <th>5</th>\n",
       "      <td>1000000</td>\n",
       "      <td>1.565374</td>\n",
       "      <td>0.002241</td>\n",
       "      <td>1.562206</td>\n",
       "      <td>1.567046</td>\n",
       "    </tr>\n",
       "    <tr>\n",
       "      <th>6</th>\n",
       "      <td>10000000</td>\n",
       "      <td>20.059598</td>\n",
       "      <td>0.036443</td>\n",
       "      <td>20.011221</td>\n",
       "      <td>20.099179</td>\n",
       "    </tr>\n",
       "    <tr>\n",
       "      <th>7</th>\n",
       "      <td>100000000</td>\n",
       "      <td>191.463742</td>\n",
       "      <td>1.242241</td>\n",
       "      <td>190.440190</td>\n",
       "      <td>193.212045</td>\n",
       "    </tr>\n",
       "  </tbody>\n",
       "</table>\n",
       "</div>"
      ],
      "text/plain": [
       "        size        mean   std_dev         min         max\n",
       "0         10    0.000377  0.000005    0.000372    0.000384\n",
       "1        100    0.000545  0.000002    0.000543    0.000548\n",
       "2       1000    0.001784  0.000015    0.001770    0.001805\n",
       "3      10000    0.013559  0.000063    0.013496    0.013645\n",
       "4     100000    0.134199  0.000054    0.134156    0.134276\n",
       "5    1000000    1.565374  0.002241    1.562206    1.567046\n",
       "6   10000000   20.059598  0.036443   20.011221   20.099179\n",
       "7  100000000  191.463742  1.242241  190.440190  193.212045"
      ]
     },
     "execution_count": 29,
     "metadata": {},
     "output_type": "execute_result"
    }
   ],
   "source": [
    "benchmark_results_numpy = benchmark_numpy(sizes)\n",
    "benchmark_results_numpy"
   ]
  },
  {
   "cell_type": "code",
   "execution_count": 30,
   "id": "8344fd3b-ec0c-44b8-b3fa-9f31a3b11972",
   "metadata": {},
   "outputs": [
    {
     "name": "stdout",
     "output_type": "stream",
     "text": [
      "running on size  10\n",
      "running on size  100\n",
      "running on size  1000\n",
      "running on size  10000\n",
      "running on size  100000\n",
      "running on size  1000000\n",
      "running on size  10000000\n",
      "running on size  100000000\n"
     ]
    },
    {
     "data": {
      "text/html": [
       "<div>\n",
       "<style scoped>\n",
       "    .dataframe tbody tr th:only-of-type {\n",
       "        vertical-align: middle;\n",
       "    }\n",
       "\n",
       "    .dataframe tbody tr th {\n",
       "        vertical-align: top;\n",
       "    }\n",
       "\n",
       "    .dataframe thead th {\n",
       "        text-align: right;\n",
       "    }\n",
       "</style>\n",
       "<table border=\"1\" class=\"dataframe\">\n",
       "  <thead>\n",
       "    <tr style=\"text-align: right;\">\n",
       "      <th></th>\n",
       "      <th>size</th>\n",
       "      <th>mean</th>\n",
       "      <th>std_dev</th>\n",
       "      <th>min</th>\n",
       "      <th>max</th>\n",
       "    </tr>\n",
       "  </thead>\n",
       "  <tbody>\n",
       "    <tr>\n",
       "      <th>0</th>\n",
       "      <td>10</td>\n",
       "      <td>0.000159</td>\n",
       "      <td>0.000002</td>\n",
       "      <td>0.000157</td>\n",
       "      <td>0.000162</td>\n",
       "    </tr>\n",
       "    <tr>\n",
       "      <th>1</th>\n",
       "      <td>100</td>\n",
       "      <td>0.000167</td>\n",
       "      <td>0.000003</td>\n",
       "      <td>0.000164</td>\n",
       "      <td>0.000170</td>\n",
       "    </tr>\n",
       "    <tr>\n",
       "      <th>2</th>\n",
       "      <td>1000</td>\n",
       "      <td>0.000304</td>\n",
       "      <td>0.000117</td>\n",
       "      <td>0.000221</td>\n",
       "      <td>0.000470</td>\n",
       "    </tr>\n",
       "    <tr>\n",
       "      <th>3</th>\n",
       "      <td>10000</td>\n",
       "      <td>0.000593</td>\n",
       "      <td>0.000005</td>\n",
       "      <td>0.000587</td>\n",
       "      <td>0.000598</td>\n",
       "    </tr>\n",
       "    <tr>\n",
       "      <th>4</th>\n",
       "      <td>100000</td>\n",
       "      <td>0.004555</td>\n",
       "      <td>0.000061</td>\n",
       "      <td>0.004509</td>\n",
       "      <td>0.004641</td>\n",
       "    </tr>\n",
       "    <tr>\n",
       "      <th>5</th>\n",
       "      <td>1000000</td>\n",
       "      <td>0.055259</td>\n",
       "      <td>0.001017</td>\n",
       "      <td>0.054371</td>\n",
       "      <td>0.056683</td>\n",
       "    </tr>\n",
       "    <tr>\n",
       "      <th>6</th>\n",
       "      <td>10000000</td>\n",
       "      <td>1.382024</td>\n",
       "      <td>0.004502</td>\n",
       "      <td>1.378832</td>\n",
       "      <td>1.388391</td>\n",
       "    </tr>\n",
       "    <tr>\n",
       "      <th>7</th>\n",
       "      <td>100000000</td>\n",
       "      <td>13.554246</td>\n",
       "      <td>0.183335</td>\n",
       "      <td>13.295142</td>\n",
       "      <td>13.691959</td>\n",
       "    </tr>\n",
       "  </tbody>\n",
       "</table>\n",
       "</div>"
      ],
      "text/plain": [
       "        size       mean   std_dev        min        max\n",
       "0         10   0.000159  0.000002   0.000157   0.000162\n",
       "1        100   0.000167  0.000003   0.000164   0.000170\n",
       "2       1000   0.000304  0.000117   0.000221   0.000470\n",
       "3      10000   0.000593  0.000005   0.000587   0.000598\n",
       "4     100000   0.004555  0.000061   0.004509   0.004641\n",
       "5    1000000   0.055259  0.001017   0.054371   0.056683\n",
       "6   10000000   1.382024  0.004502   1.378832   1.388391\n",
       "7  100000000  13.554246  0.183335  13.295142  13.691959"
      ]
     },
     "execution_count": 30,
     "metadata": {},
     "output_type": "execute_result"
    }
   ],
   "source": [
    "benchmark_results_distopia = benchmark_distopia(sizes)\n",
    "benchmark_results_distopia"
   ]
  },
  {
   "cell_type": "code",
   "execution_count": 31,
   "id": "ff651db0-97db-448e-adda-93ba8e805fbc",
   "metadata": {},
   "outputs": [
    {
     "name": "stdout",
     "output_type": "stream",
     "text": [
      "running on size  10\n",
      "running on size  100\n",
      "running on size  1000\n",
      "running on size  10000\n",
      "running on size  100000\n",
      "running on size  1000000\n",
      "running on size  10000000\n",
      "running on size  100000000\n"
     ]
    },
    {
     "data": {
      "text/html": [
       "<div>\n",
       "<style scoped>\n",
       "    .dataframe tbody tr th:only-of-type {\n",
       "        vertical-align: middle;\n",
       "    }\n",
       "\n",
       "    .dataframe tbody tr th {\n",
       "        vertical-align: top;\n",
       "    }\n",
       "\n",
       "    .dataframe thead th {\n",
       "        text-align: right;\n",
       "    }\n",
       "</style>\n",
       "<table border=\"1\" class=\"dataframe\">\n",
       "  <thead>\n",
       "    <tr style=\"text-align: right;\">\n",
       "      <th></th>\n",
       "      <th>size</th>\n",
       "      <th>mean</th>\n",
       "      <th>std_dev</th>\n",
       "      <th>min</th>\n",
       "      <th>max</th>\n",
       "    </tr>\n",
       "  </thead>\n",
       "  <tbody>\n",
       "    <tr>\n",
       "      <th>0</th>\n",
       "      <td>10</td>\n",
       "      <td>0.002638</td>\n",
       "      <td>0.000293</td>\n",
       "      <td>0.002301</td>\n",
       "      <td>0.003016</td>\n",
       "    </tr>\n",
       "    <tr>\n",
       "      <th>1</th>\n",
       "      <td>100</td>\n",
       "      <td>0.002338</td>\n",
       "      <td>0.000033</td>\n",
       "      <td>0.002311</td>\n",
       "      <td>0.002384</td>\n",
       "    </tr>\n",
       "    <tr>\n",
       "      <th>2</th>\n",
       "      <td>1000</td>\n",
       "      <td>0.002316</td>\n",
       "      <td>0.000042</td>\n",
       "      <td>0.002285</td>\n",
       "      <td>0.002375</td>\n",
       "    </tr>\n",
       "    <tr>\n",
       "      <th>3</th>\n",
       "      <td>10000</td>\n",
       "      <td>0.002291</td>\n",
       "      <td>0.000015</td>\n",
       "      <td>0.002269</td>\n",
       "      <td>0.002302</td>\n",
       "    </tr>\n",
       "    <tr>\n",
       "      <th>4</th>\n",
       "      <td>100000</td>\n",
       "      <td>0.002313</td>\n",
       "      <td>0.000028</td>\n",
       "      <td>0.002289</td>\n",
       "      <td>0.002353</td>\n",
       "    </tr>\n",
       "    <tr>\n",
       "      <th>5</th>\n",
       "      <td>1000000</td>\n",
       "      <td>0.002428</td>\n",
       "      <td>0.000013</td>\n",
       "      <td>0.002409</td>\n",
       "      <td>0.002438</td>\n",
       "    </tr>\n",
       "    <tr>\n",
       "      <th>6</th>\n",
       "      <td>10000000</td>\n",
       "      <td>0.034388</td>\n",
       "      <td>0.001029</td>\n",
       "      <td>0.032969</td>\n",
       "      <td>0.035377</td>\n",
       "    </tr>\n",
       "    <tr>\n",
       "      <th>7</th>\n",
       "      <td>100000000</td>\n",
       "      <td>0.314150</td>\n",
       "      <td>0.001787</td>\n",
       "      <td>0.312310</td>\n",
       "      <td>0.316570</td>\n",
       "    </tr>\n",
       "  </tbody>\n",
       "</table>\n",
       "</div>"
      ],
      "text/plain": [
       "        size      mean   std_dev       min       max\n",
       "0         10  0.002638  0.000293  0.002301  0.003016\n",
       "1        100  0.002338  0.000033  0.002311  0.002384\n",
       "2       1000  0.002316  0.000042  0.002285  0.002375\n",
       "3      10000  0.002291  0.000015  0.002269  0.002302\n",
       "4     100000  0.002313  0.000028  0.002289  0.002353\n",
       "5    1000000  0.002428  0.000013  0.002409  0.002438\n",
       "6   10000000  0.034388  0.001029  0.032969  0.035377\n",
       "7  100000000  0.314150  0.001787  0.312310  0.316570"
      ]
     },
     "execution_count": 31,
     "metadata": {},
     "output_type": "execute_result"
    }
   ],
   "source": [
    "\n",
    "benchmark_results_jax_gpu = benchmark_jax(sizes, dist_jax_gpu)\n",
    "benchmark_results_jax_gpu"
   ]
  },
  {
   "cell_type": "code",
   "execution_count": 35,
   "id": "4de6660b-f612-4d53-a153-2f5ce097d841",
   "metadata": {},
   "outputs": [
    {
     "name": "stdout",
     "output_type": "stream",
     "text": [
      "running on size  10\n",
      "running on size  100\n",
      "running on size  1000\n",
      "running on size  10000\n",
      "running on size  100000\n",
      "running on size  1000000\n",
      "running on size  10000000\n",
      "running on size  100000000\n"
     ]
    },
    {
     "data": {
      "text/html": [
       "<div>\n",
       "<style scoped>\n",
       "    .dataframe tbody tr th:only-of-type {\n",
       "        vertical-align: middle;\n",
       "    }\n",
       "\n",
       "    .dataframe tbody tr th {\n",
       "        vertical-align: top;\n",
       "    }\n",
       "\n",
       "    .dataframe thead th {\n",
       "        text-align: right;\n",
       "    }\n",
       "</style>\n",
       "<table border=\"1\" class=\"dataframe\">\n",
       "  <thead>\n",
       "    <tr style=\"text-align: right;\">\n",
       "      <th></th>\n",
       "      <th>size</th>\n",
       "      <th>mean</th>\n",
       "      <th>std_dev</th>\n",
       "      <th>min</th>\n",
       "      <th>max</th>\n",
       "    </tr>\n",
       "  </thead>\n",
       "  <tbody>\n",
       "    <tr>\n",
       "      <th>0</th>\n",
       "      <td>10</td>\n",
       "      <td>0.000566</td>\n",
       "      <td>0.000035</td>\n",
       "      <td>0.000531</td>\n",
       "      <td>0.000614</td>\n",
       "    </tr>\n",
       "    <tr>\n",
       "      <th>1</th>\n",
       "      <td>100</td>\n",
       "      <td>0.000667</td>\n",
       "      <td>0.000038</td>\n",
       "      <td>0.000629</td>\n",
       "      <td>0.000720</td>\n",
       "    </tr>\n",
       "    <tr>\n",
       "      <th>2</th>\n",
       "      <td>1000</td>\n",
       "      <td>0.001462</td>\n",
       "      <td>0.000074</td>\n",
       "      <td>0.001365</td>\n",
       "      <td>0.001546</td>\n",
       "    </tr>\n",
       "    <tr>\n",
       "      <th>3</th>\n",
       "      <td>10000</td>\n",
       "      <td>0.008825</td>\n",
       "      <td>0.000264</td>\n",
       "      <td>0.008473</td>\n",
       "      <td>0.009110</td>\n",
       "    </tr>\n",
       "    <tr>\n",
       "      <th>4</th>\n",
       "      <td>100000</td>\n",
       "      <td>0.251053</td>\n",
       "      <td>0.005434</td>\n",
       "      <td>0.243439</td>\n",
       "      <td>0.255765</td>\n",
       "    </tr>\n",
       "    <tr>\n",
       "      <th>5</th>\n",
       "      <td>1000000</td>\n",
       "      <td>2.484111</td>\n",
       "      <td>0.002141</td>\n",
       "      <td>2.481883</td>\n",
       "      <td>2.487001</td>\n",
       "    </tr>\n",
       "    <tr>\n",
       "      <th>6</th>\n",
       "      <td>10000000</td>\n",
       "      <td>25.753068</td>\n",
       "      <td>0.155846</td>\n",
       "      <td>25.567244</td>\n",
       "      <td>25.948615</td>\n",
       "    </tr>\n",
       "    <tr>\n",
       "      <th>7</th>\n",
       "      <td>100000000</td>\n",
       "      <td>253.090481</td>\n",
       "      <td>1.578098</td>\n",
       "      <td>251.399253</td>\n",
       "      <td>255.197206</td>\n",
       "    </tr>\n",
       "  </tbody>\n",
       "</table>\n",
       "</div>"
      ],
      "text/plain": [
       "        size        mean   std_dev         min         max\n",
       "0         10    0.000566  0.000035    0.000531    0.000614\n",
       "1        100    0.000667  0.000038    0.000629    0.000720\n",
       "2       1000    0.001462  0.000074    0.001365    0.001546\n",
       "3      10000    0.008825  0.000264    0.008473    0.009110\n",
       "4     100000    0.251053  0.005434    0.243439    0.255765\n",
       "5    1000000    2.484111  0.002141    2.481883    2.487001\n",
       "6   10000000   25.753068  0.155846   25.567244   25.948615\n",
       "7  100000000  253.090481  1.578098  251.399253  255.197206"
      ]
     },
     "execution_count": 35,
     "metadata": {},
     "output_type": "execute_result"
    }
   ],
   "source": [
    "\n",
    "benchmark_results_mda = benchmark_mda(sizes)\n",
    "benchmark_results_mda"
   ]
  },
  {
   "cell_type": "code",
   "execution_count": 37,
   "id": "9b3c6243-b1f8-4be3-b265-3a8feea8caa3",
   "metadata": {},
   "outputs": [],
   "source": [
    "import matplotlib.pyplot as plt\n"
   ]
  },
  {
   "cell_type": "code",
   "execution_count": 42,
   "id": "60cd951f-0502-4790-bdb2-9371418c4215",
   "metadata": {},
   "outputs": [
    {
     "data": {
      "image/png": "[encoded data removed]",
      "text/plain": [
       "<Figure size 800x600 with 1 Axes>"
      ]
     },
     "metadata": {},
     "output_type": "display_data"
    }
   ],
   "source": [
    "plt.figure(figsize=(8,6))\n",
    "plt.loglog(benchmark_results_jax['size'], benchmark_results_jax['mean'], marker='o', label='Jax CPU', color=\"blue\")\n",
    "plt.loglog(benchmark_results_distopia['size'], benchmark_results_distopia['mean'], marker='o', label='Distopia', color=\"red\")\n",
    "plt.loglog(benchmark_results_numpy['size'], benchmark_results_numpy['mean'], marker='o', label='Numpy', color=\"green\")\n",
    "plt.loglog(benchmark_results_jax_gpu['size'], benchmark_results_jax_gpu['mean'], marker='o', label='Jax GPU', color=\"purple\")\n",
    "plt.loglog(benchmark_results_mda['size'], benchmark_results_mda['mean'], marker='o', label='MDAnalysis', color=\"orange\")\n",
    "\n",
    "\n",
    "plt.xlabel('Problem Size')\n",
    "plt.ylabel('Execution Time (s)')\n",
    "plt.title('Orthorhombic PBC Distance Computation Benchmark (from Python)')\n",
    "plt.legend()\n",
    "plt.grid(True, which=\"both\", linestyle=\"--\", linewidth=0.5)\n",
    "plt.savefig(\"log-distopia-comparison.png\")\n",
    "plt.show()"
   ]
  },
  {
   "cell_type": "code",
   "execution_count": null,
   "id": "2142695d-a681-4499-b9ee-eb1f02e4618f",
   "metadata": {},
   "outputs": [],
   "source": [
    "plt.figure(figsize=(8,6))\n",
    "plt.plot(benchmark_results_jax['size'], benchmark_results_jax['mean'], marker='o', label='Jax Mean Execution Time', color=\"blue\")\n",
    "plt.plot(benchmark_results_distopia['size'], benchmark_results_distopia['mean'], marker='o', label='Distopia Mean Execution Time', color=\"orange\")\n",
    "plt.plot(benchmark_results_numpy['size'], benchmark_results_numpy['mean'], marker='o', label='Numpy Mean Execution Time', color=\"green\")\n",
    "\n",
    "plt.fill_between(benchmark_results_jax['size'], \n",
    "                 benchmark_results_jax['min'], \n",
    "                 benchmark_results_jax['max'], \n",
    "                 color='blue', alpha=0.3, label='Min-Max Range')\n",
    "\n",
    "plt.fill_between(benchmark_results_distopia['size'], \n",
    "                 benchmark_results_distopia['min'], \n",
    "                 benchmark_results_distopia['max'], \n",
    "                 color='orange', alpha=0.3, label='Min-Max Range')\n",
    "\n",
    "plt.fill_between(benchmark_results_numpy['size'], \n",
    "                 benchmark_results_numpy['min'], \n",
    "                 benchmark_results_numpy['max'], \n",
    "                 color='green', alpha=0.3, label='Min-Max Range')\n",
    "\n",
    "plt.xlabel('Array Size')\n",
    "plt.ylabel('Execution Time (s)')\n",
    "plt.title('JAX Distance Computation Benchmark')\n",
    "plt.legend()\n",
    "plt.grid(True, which=\"both\", linestyle=\"--\", linewidth=0.5)\n",
    "plt.show()"
   ]
  },
  {
   "cell_type": "code",
   "execution_count": null,
   "id": "023fa7fe-d9c4-40c0-bba6-996cd06d4494",
   "metadata": {},
   "outputs": [],
   "source": []
  },
  {
   "cell_type": "code",
   "execution_count": null,
   "id": "fe9b8a6e-b614-478f-9ebc-82bf1b0a1834",
   "metadata": {},
   "outputs": [],
   "source": []
  },
  {
   "cell_type": "code",
   "execution_count": null,
   "id": "8a38105b-5cf3-4036-9d4a-77f8f332a235",
   "metadata": {},
   "outputs": [],
   "source": []
  }
 ],
 "metadata": {
  "kernelspec": {
   "display_name": "Python 3 (ipykernel)",
   "language": "python",
   "name": "python3"
  },
  "language_info": {
   "codemirror_mode": {
    "name": "ipython",
    "version": 3
   },
   "file_extension": ".py",
   "mimetype": "text/x-python",
   "name": "python",
   "nbconvert_exporter": "python",
   "pygments_lexer": "ipython3",
   "version": "3.13.2"
  }
 },
 "nbformat": 4,
 "nbformat_minor": 5
}
